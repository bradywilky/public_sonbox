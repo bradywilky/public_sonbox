{
 "cells": [
  {
   "cell_type": "code",
   "execution_count": 25,
   "id": "72cbef51",
   "metadata": {},
   "outputs": [],
   "source": [
    "import pandas as pd\n",
    "\n",
    "\n",
    "df = pd.read_csv('abc.csv')\n",
    "\n",
    "# transforming score columns for easier calculations\n",
    "df['score_home_start'] = df['Start Score'].apply(lambda x: x.split('-')[0]).astype('int32')\n",
    "df['score_away_start'] = df['Start Score'].apply(lambda x: x.split('-')[1]).astype('int32')\n",
    "df['score_home_end'] = df['Finish Score'].apply(lambda x: x.split('-')[0]).astype('int32')\n",
    "df['score_away_end'] = df['Finish Score'].apply(lambda x: x.split('-')[1]).astype('int32')\n",
    "\n",
    "df['score_home_delta'] = df['score_home_end'] - df['score_home_start']\n",
    "df['score_away_delta'] = df['score_away_end'] - df['score_away_start']\n",
    "\n",
    "def _extract_seconds(row):\n",
    "    quarter = int(row[1])\n",
    "    time_left_quarter = 8 * 60 * (4 - quarter) \n",
    "    time_left_min = int(row[3]) * 60\n",
    "    time_left_sec = int(row[5:7])\n",
    "    \n",
    "    return time_left_quarter + time_left_min + time_left_sec\n",
    "\n",
    "\n",
    "df['start_time_sec'] = df['Start Time'].apply(lambda x: _extract_seconds(x))\n",
    "df['end_time_sec'] = df['Finish Time'].apply(lambda x: _extract_seconds(x))\n",
    "df['end_start_delta'] = df['start_time_sec'] - df['end_time_sec']\n",
    "\n",
    "def plus_minus(player):\n",
    "    player_df = df[df['Name'] == player]\n",
    "    home = player_df['score_home_delta'].sum()\n",
    "    away = player_df['score_away_delta'].sum()\n",
    "    plus_minus = home - away\n",
    "    \n",
    "    pt = player_df['end_start_delta'].sum()\n",
    "    mins = pt // 60\n",
    "    secs = pt % 60\n",
    "    \n",
    "    print(f'Plus-minus for {player}: {plus_minus}\\n{mins} minutes and {secs} seconds of playing time.')"
   ]
  },
  {
   "cell_type": "code",
   "execution_count": 29,
   "id": "6c6ba692",
   "metadata": {},
   "outputs": [
    {
     "name": "stdout",
     "output_type": "stream",
     "text": [
      "Plus-minus for Abhinav: -7\n",
      "24 minutes and 30 seconds of playing time.\n"
     ]
    }
   ],
   "source": [
    "plus_minus('Abhinav')"
   ]
  }
 ],
 "metadata": {
  "kernelspec": {
   "display_name": "Python 3 (ipykernel)",
   "language": "python",
   "name": "python3"
  },
  "language_info": {
   "codemirror_mode": {
    "name": "ipython",
    "version": 3
   },
   "file_extension": ".py",
   "mimetype": "text/x-python",
   "name": "python",
   "nbconvert_exporter": "python",
   "pygments_lexer": "ipython3",
   "version": "3.10.0"
  }
 },
 "nbformat": 4,
 "nbformat_minor": 5
}
