{
 "cells": [
  {
   "cell_type": "code",
   "execution_count": null,
   "id": "3433f9e0",
   "metadata": {},
   "outputs": [],
   "source": [
    "from nba_api.stats.endpoints import LeagueGameFinder\n",
    "\n",
    "games = LeagueGameFinder(\n",
    "   season_nullable = '2021-22'\n",
    "#     , date_from_nullable = '02/02/2022',                                                     \n",
    "#     date_to_nullable = '02/02/2022'\n",
    "    ).league_game_finder_results.get_data_frame()\n",
    "\n",
    "games['TEAM_NAME'].unique()"
   ]
  },
  {
   "cell_type": "code",
   "execution_count": 4,
   "id": "0b097ed4",
   "metadata": {},
   "outputs": [],
   "source": [
    "from pandasql import sqldf\n",
    "\n",
    "pysqldf = lambda x: sqldf(x, globals())"
   ]
  },
  {
   "cell_type": "code",
   "execution_count": null,
   "id": "703e394a",
   "metadata": {},
   "outputs": [],
   "source": [
    "g_league_teams = [\n",
    "    'Wisconsin Herd'\n",
    "    , 'Lakeland Magic'\n",
    "    , 'Agua Caliente Clippers'\n",
    "    , 'Sioux Falls Skyforce'\n",
    "    , 'Windy City Bulls'\n",
    "    , 'Raptors 905'\n",
    "    , 'Greensboro Swarm'\n",
    "    , 'Delaware Blue Coats'\n",
    "    , 'Memphis Hustle'\n",
    "    , 'Iowa Wolves'\n",
    "    , 'Texas Legends'\n",
    "    , 'Stockton Kings'\n",
    "    , 'Long Island Nets'\n",
    "    , 'Cleveland Charge'\n",
    "    , 'Fort Wayne Mad Ants'\n",
    "    , 'Capital City Go-Go'\n",
    "    , 'Santa Cruz Warriors'\n",
    "    , 'Birmingham Squadron'\n",
    "    , 'Westchester Knicks'\n",
    "    , 'Motor City Cruise'\n",
    "    , 'Rio Grande Valley Vipers'\n",
    "    , 'Salt Lake City Stars'\n",
    "    , 'South Bay Lakers'\n",
    "    , 'Oklahoma City Blue'\n",
    "    , 'Austin Spurs'\n",
    "    , 'Maine Celtics'\n",
    "    , 'G League Ignite'\n",
    "    , 'Grand Rapids Gold'\n",
    "    , 'College Park Skyhawks'\n",
    "    , 'Ciudad de Mexico Capitanes'\n",
    "]\n",
    "\n"
   ]
  }
 ],
 "metadata": {
  "kernelspec": {
   "display_name": "Python 3 (ipykernel)",
   "language": "python",
   "name": "python3"
  },
  "language_info": {
   "codemirror_mode": {
    "name": "ipython",
    "version": 3
   },
   "file_extension": ".py",
   "mimetype": "text/x-python",
   "name": "python",
   "nbconvert_exporter": "python",
   "pygments_lexer": "ipython3",
   "version": "3.10.0"
  }
 },
 "nbformat": 4,
 "nbformat_minor": 5
}
