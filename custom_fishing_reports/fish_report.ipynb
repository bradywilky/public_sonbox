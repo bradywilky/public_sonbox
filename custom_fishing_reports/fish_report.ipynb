{
 "cells": [
  {
   "cell_type": "code",
   "execution_count": null,
   "id": "5fc9a01c",
   "metadata": {},
   "outputs": [],
   "source": [
    "# flounder\n",
    "# redfish\n",
    "# bass\n",
    "\n",
    "# state\n",
    "\n",
    "# time\n",
    "\n",
    "# weather\n",
    "\n",
    "# moon\n",
    "\n",
    "# tide\n",
    "# https://tidesandcurrents.noaa.gov/map/index.html?id=8661070\n",
    "# find north cherry grove tide times and set as constants to add to above NOAA station\n",
    "import tidetable\n",
    "\n",
    "stationid = 8661070\n",
    "table = tidetable.get(stationid)\n",
    "tidetable.TideTable(stationid=stationid)"
   ]
  }
 ],
 "metadata": {
  "kernelspec": {
   "display_name": "Python 3 (ipykernel)",
   "language": "python",
   "name": "python3"
  },
  "language_info": {
   "codemirror_mode": {
    "name": "ipython",
    "version": 3
   },
   "file_extension": ".py",
   "mimetype": "text/x-python",
   "name": "python",
   "nbconvert_exporter": "python",
   "pygments_lexer": "ipython3",
   "version": "3.10.0"
  }
 },
 "nbformat": 4,
 "nbformat_minor": 5
}
