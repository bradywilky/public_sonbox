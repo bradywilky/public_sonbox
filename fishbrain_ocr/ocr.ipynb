{
 "cells": [
  {
   "cell_type": "code",
   "execution_count": 97,
   "id": "33fbd3ef",
   "metadata": {},
   "outputs": [],
   "source": [
    "import cv2\n",
    "import pytesseract\n",
    "import numpy as np\n",
    "import os\n",
    "from tokenize import tokenize"
   ]
  },
  {
   "cell_type": "code",
   "execution_count": null,
   "id": "cea9046c",
   "metadata": {},
   "outputs": [],
   "source": [
    "pytesseract.pytesseract.tesseract_cmd = r'C:\\Program Files\\Tesseract-OCR\\tesseract.exe'"
   ]
  },
  {
   "cell_type": "code",
   "execution_count": 8,
   "id": "9ff54fae",
   "metadata": {},
   "outputs": [],
   "source": [
    "def rename_screenshot(currname):\n",
    "        s = currname.replace('Screenshot (', 'sc')\n",
    "        s = s.replace(')', '')\n",
    "        try:\n",
    "            os.rename(f'screens/{f}', f'screens/{s}')\n",
    "        except Exception:\n",
    "            print(Exception)\n",
    "            print('Already renamed or file not found.')\n",
    "\n",
    "def show_img(image, name = 'Preview'):\n",
    "    cv2.imshow(name, image)\n",
    "    cv2.waitKey(0)\n",
    "    cv2.destroyAllWindows()"
   ]
  },
  {
   "cell_type": "code",
   "execution_count": 32,
   "id": "2073f98c",
   "metadata": {},
   "outputs": [],
   "source": [
    "#dilation\n",
    "def dilate(image):\n",
    "    kernel = np.ones((5,5),np.uint8)\n",
    "    return cv2.dilate(image, kernel, iterations = 1)\n",
    "\n",
    "#erosion\n",
    "def erode(image):\n",
    "    kernel = np.ones((5,5),np.uint8)\n",
    "    return cv2.erode(image, kernel, iterations = 1)\n",
    "\n",
    "#opening - erosion followed by dilation\n",
    "def opening(image):\n",
    "    kernel = np.ones((5,5),np.uint8)\n",
    "    return cv2.morphologyEx(image, cv2.MORPH_OPEN, kernel)\n",
    "\n",
    "def get_grayscale(image):\n",
    "    return cv2.cvtColor(image, cv2.COLOR_BGR2GRAY)\n",
    "\n",
    "def image_to_string_numbers(image):\n",
    "    custom_config = r'--oem 3 --psm 6 outputbase digits'\n",
    "    return pytesseract.image_to_string(img, config=custom_config)"
   ]
  },
  {
   "cell_type": "code",
   "execution_count": null,
   "id": "4c791d1e",
   "metadata": {},
   "outputs": [],
   "source": [
    "for _, _, files in os.walk('screens'):\n",
    "    for f in files:\n",
    "        rename_screenshot(f)"
   ]
  },
  {
   "cell_type": "code",
   "execution_count": 104,
   "id": "cb9688cf",
   "metadata": {
    "scrolled": true
   },
   "outputs": [
    {
     "name": "stdout",
     "output_type": "stream",
     "text": [
      "['<', 'Catch', 'overview', 'Four', 'Mile', 'Run', 'Main', 'info', 'Fish', 'species', 'Largemouth', 'bass', '>', 'Weight', '2', 'Ib', 'Catch', 'andrelease', 'Yes', 'Date', '1/25/22', 'Catch', 'conditions', 'ne', 'One', 'V', 'Light', 'rain', 'Water', 'temperature', 'Wind', 'direction', '7', 'q', '(A', '16:22', 'Last', 'Quarter', '1020.00', 'hPa', 'a)', 'm™', '—']\n",
      "['<', 'Catch', 'overview', 'Date', '1/25/22', 'Catch', 'conditions', 'we', '3r§', '34°', 'Light', 'rain', 'Water', 'temperature', '16:22', 'Last', 'Quarter', 'Gear', 'used', 'RAPALA', 'Rapala', 'Ripstop', 'HB-CB-RP-0114', 'ek', 'KA', '(199)', 'Teal', 'llolme(-volm', 'RAPALA', 'Rapala', 'Shadow', 'Rap', '$8.99', 'tok', 'kk', 'ry)', '7kn', 'N', 'Wind', 'direction', '(A', '1020.00', 'hPa', 'Select', 'See', 'more', 'in', 'the', 'Fishbrain', 'shop']\n",
      "['Four', 'Mile', 'Run', 'Main', 'info', 'Fish', 'species', 'Black', 'crappie', 'Length', '13.5', 'in', 'Catch', 'andrelease', 'Yes', 'Date', '1/25/22', 'Catch', 'conditions', 'w', '30°', '|', '4', '37', 'Sunny', 'Water', 'temperature', '16:47', 'Last', 'Quarter', 'a)', 'm™', 'all>', 'o)', '9kn', 'NNW', 'Wind', 'direction', '(A', '1023.00', 'hPa', '—*']\n",
      "['<', 'Catch', 'overview', 'Main', 'info', 'Fish', 'species', 'Black', 'crappie', '>', 'Length', '13.5in', 'Catch', 'andrelease', 'Yes', 'Date', '1/25/22', 'Catch', 'conditions', '9kn', '#300', '=|', '37°', 'oe', 'Sunny', 'Water', 'temperature', 'Wind', 'direction', 'q', '(A', '16:47', 'Last', 'Quarter', '1023.00', 'hPa', 'Gear', 'used', 'aan', 'Rapala', 'Ripstop', 'Ok', 'eH', 'U1']\n",
      "['<', 'Catch', 'overview', 'Four', 'Mile', 'Run', 'Main', 'info', 'Fish', 'species', 'Largemouth', 'bass', '>', 'Catch', 'andrelease', 'Yes', 'Date', '1/23/22', 'Catch', 'conditions', '(6)', '4kn', '0', '&', '0', '%', '32', '37', 'ow', 'Partly', 'cloudy', 'Water', 'temperature', 'Wind', 'direction', '17:36', 'Last', 'Quarter', '1009.00', 'hPa', 'a)', 'm™', '—*']\n",
      "['<', 'Catch', 'overview', 'Four', 'Mile', 'Run', '4”)', 'Main', 'info', 'Fish', 'species', 'Largemouth', 'bass', '>', 'Catch', 'andrelease', 'Yes', 'Date', '1/23/22', 'Catch', 'conditions', 'ne', 'On', 'Pel', 'Partly', 'cloudy', 'Water', 'temperature', 'Wind', 'direction', 'i.', 'q', 'ay', '17:36', 'Last', 'Quarter', '1009.00', 'hPa', 'Gear', 'used', 'REME', '(A', 'Ultra-Lite', 'Jerkbait']\n",
      "['Four', 'Mile', 'Run', 'Main', 'info', 'Fish', 'species', 'Weight', 'Catch', 'and', 'release', 'Date', 'Catch', 'conditions', '3%', '27°', 'Sunny', '17:32', 'a)', '_§', '39°', 'Water', 'temperature', 'Waning', 'Gibbous', 'a', 'al', 'Fo)', 'Blue', 'catfish', '>', '15', 'Ib', '2', '0z', 'Yes', '1/20/22', 'o', 'N', 'Wind', 'direction', '(A', '1029.00', 'hPa', '—*']\n",
      "['<', 'Catch', 'overview', 'Four', 'Mile', 'Run', 'Main', 'info', 'Fish', 'species', 'Common', 'carp', '>', 'Catch', 'and', 'release', 'No', 'Date', '1/20/22', 'Catch', 'conditions', '(6)', '9kn', '%', '27°', '£32', '@', '—', 'N', 'Partly', 'cloudy', 'Water', 'temperature', 'Wind', 'direction', 'i', '@', 'CA', '16:23', 'Waning', 'Gibbous', '1028.00', 'hPa', 'a)', 'm™', '—*']\n",
      "['<', 'Catch', 'overview', 'Four', 'Mile', 'Run', 'Main', 'info', 'Fish', 'species', 'Common', 'carp', 'Catch', 'and', 'release', 'No', 'Date', '1/20/22', 'Catch', 'conditions', 'ne', 'oC', 'V', 'bl', 'Partly', 'cloudy', 'Water', 'temperature', 'Wind', 'direction', '@', 'CA', 'Waning', 'Gibbous', '1028.00', 'hPa', 'Gear', 'used', 'EB', 'Corn']\n",
      "['<', 'Catch', 'overview', 'Four', 'Mile', 'Run', 'Main', 'info', 'Fish', 'species', 'Blue', 'catfish', '>', 'Catch', 'andrelease', 'Yes', 'Date', '1/19/22', 'Catch', 'conditions', '3', '39°', '&', '39°', 'aa', 'ye', 'sw', 'Light', 'rain', 'Water', 'temperature', 'Wind', 'direction', '18:53', 'Waning', 'Gibbous', '1016.00', 'hPa', 'a)', 'm™', '—*']\n",
      "['<', 'Catch', 'overview', 'Bs)', 'Four', 'Mile', 'Run', 'Main', 'info', 'Fish', 'species', 'Blue', 'catfish', 'Catch', 'and', 'release', 'Yes', 'Date', '1/19/22', 'Catch', 'conditions', '3%', '39°', '&', '39°', 'oa', 'a', 'sw', 'Light', 'rain', 'Water', 'temperature', 'Wind', 'direction', '18:53,', 'Waning', 'Gibbous', '1016.00', 'hPa', 'Gear', 'used', 'f', 'Meat']\n",
      "['<', 'Catch', 'overview', 'Four', 'Mile', 'Run', 'Main', 'info', 'Fish', 'species', 'Largemouth', 'bass', '>', 'Catch', 'and', 'release', 'No', 'Date', '1/19/22', 'Catch', 'conditions', '(6)', '8kn', '‘°', '&', 'o', '45', '“SS', '39', 'ssw', 'Overcast', 'Water', 'temperature', 'Wind', 'direction', '15:56', 'Full', 'Moon', '1017.00', 'hPa', 'a)', 'm™', '—']\n",
      "['23:38', 'wee', '<', 'Catch', 'overview', 'Four', 'Mile', 'Run', 'Main', 'info', 'Fish', 'species', 'Largemouth', 'bass', '>', 'Catch', 'and', 'release', 'No', 'Date', '1/19/22', 'Catch', 'conditions', '8kn', '‘°', '&', 'o', '45', 'wy', '39', 'ssw', 'Overcast', 'Water', 'temperature', 'Wind', 'direction', 'a', '15:56', 'Full', 'Moon', '1017.00', 'hPa', 'Gear', 'used', 'TRIKE', 'KING', 'cowl', 'Baby', 'Rage', 'Craw', '3']\n"
     ]
    }
   ],
   "source": [
    "def _after_species(text):\n",
    "    try:\n",
    "        idx = text.index('species')\n",
    "        print(f'{i}: {text[idx + 1 : idx + 3]}')\n",
    "    except ValueError:\n",
    "        print(f'word not found in sc{i}')\n",
    "        \n",
    "        \n",
    "for i in range(2, 16):\n",
    "    if i != 9:\n",
    "        path = f'screens/sc{i}.png'\n",
    "        img = cv2.imread(path)\n",
    "        cropped_image = img[0:1000, 710:1200]\n",
    "        text = pytesseract.image_to_string(cropped_image).split()\n",
    "        print(text)\n"
   ]
  }
 ],
 "metadata": {
  "kernelspec": {
   "display_name": "Python 3 (ipykernel)",
   "language": "python",
   "name": "python3"
  },
  "language_info": {
   "codemirror_mode": {
    "name": "ipython",
    "version": 3
   },
   "file_extension": ".py",
   "mimetype": "text/x-python",
   "name": "python",
   "nbconvert_exporter": "python",
   "pygments_lexer": "ipython3",
   "version": "3.10.0"
  }
 },
 "nbformat": 4,
 "nbformat_minor": 5
}
