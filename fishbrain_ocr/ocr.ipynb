{
 "cells": [
  {
   "cell_type": "code",
   "execution_count": 5,
   "id": "33fbd3ef",
   "metadata": {},
   "outputs": [],
   "source": [
    "import cv2\n",
    "import pytesseract\n",
    "import numpy as np\n",
    "import os\n",
    "from tokenize import tokenize\n",
    "\n",
    "from assets.fish_list import get_all"
   ]
  },
  {
   "cell_type": "code",
   "execution_count": 6,
   "id": "cea9046c",
   "metadata": {},
   "outputs": [],
   "source": [
    "pytesseract.pytesseract.tesseract_cmd = r'C:\\Program Files\\Tesseract-OCR\\tesseract.exe'\n",
    "fish_list = get_all()"
   ]
  },
  {
   "cell_type": "code",
   "execution_count": 7,
   "id": "9ff54fae",
   "metadata": {},
   "outputs": [],
   "source": [
    "# Utility functions\n",
    "\n",
    "def rename_screenshot(currname):\n",
    "        s = currname.replace('Screenshot (', 'sc')\n",
    "        s = s.replace(')', '')\n",
    "        try:\n",
    "            os.rename(f'screens/{f}', f'screens/{s}')\n",
    "        except Exception:\n",
    "            print(Exception)\n",
    "            print('Already renamed or file not found.')\n",
    "\n",
    "def show_img(image, name = 'Preview'):\n",
    "    cv2.imshow(name, image)\n",
    "    cv2.waitKey(0)\n",
    "    cv2.destroyAllWindows()"
   ]
  },
  {
   "cell_type": "code",
   "execution_count": null,
   "id": "01025f83",
   "metadata": {},
   "outputs": [],
   "source": [
    "# renaming default Windows names to more compact names, as default names were resulting in pytesseract not being able to find\n",
    "# the filepath\n",
    "for _, _, files in os.walk('screens'):\n",
    "    for f in files:\n",
    "        rename_screenshot(f)"
   ]
  },
  {
   "cell_type": "code",
   "execution_count": 272,
   "id": "2073f98c",
   "metadata": {},
   "outputs": [],
   "source": [
    "# various utility functions for images that I didn't write\n",
    "\n",
    "#dilation\n",
    "def dilate(image):\n",
    "    kernel = np.ones((5,5),np.uint8)\n",
    "    return cv2.dilate(image, kernel, iterations = 1)\n",
    "\n",
    "#erosion\n",
    "def erode(image):\n",
    "    kernel = np.ones((5,5),np.uint8)\n",
    "    return cv2.erode(image, kernel, iterations = 1)\n",
    "\n",
    "#opening - erosion followed by dilation\n",
    "def opening(image):\n",
    "    kernel = np.ones((5,5),np.uint8)\n",
    "    return cv2.morphologyEx(image, cv2.MORPH_OPEN, kernel)\n",
    "\n",
    "def get_grayscale(image):\n",
    "    return cv2.cvtColor(image, cv2.COLOR_BGR2GRAY)\n",
    "\n",
    "def image_to_string_numbers(image):\n",
    "    custom_config = r'--oem 3 --psm 6 outputbase digits'\n",
    "    return pytesseract.image_to_string(img, config=custom_config)\n",
    "\n",
    "\n",
    "# crop functions for specific parts of the Fishbrain catch details GUI\n",
    "def crop_screenshot(image):\n",
    "    cropped_image = image[0:1000, 710:1200]\n",
    "    return cropped_image\n",
    "\n",
    "\n",
    "# main info: species, size, c&r, date\n",
    "def _get_main_info(image):\n",
    "    info_all = ['Fish species', 'Length', 'Weight', 'Catch and release', 'Date']\n",
    "    text = pytesseract.image_to_string(image[470:730, 800:950])\n",
    "    info_here = list()\n",
    "    for inf in info_all:\n",
    "        if inf in text:\n",
    "            info_here.append(inf)\n",
    "            \n",
    "    info_populated = dict()\n",
    "    for idx, inf in enumerate(info_here):\n",
    "        weight_shift = 0\n",
    "        if inf == 'Weight':\n",
    "            weight_shift = 20\n",
    "        crop = image[472+50*idx:522+50*idx, 955:1150 - weight_shift]\n",
    "        ocr_text = pytesseract.image_to_string(crop)\n",
    "#         print(ocr_text)\n",
    "        info_populated[inf] = ocr_text\n",
    "        \n",
    "    return info_populated\n",
    "\n",
    "\n",
    "# assumptions:\n",
    "#   - screenshot is of page immediately after tapping 'details' before any scrolling\n",
    "def _crop_info(image, zone):\n",
    "    \n",
    "    info_all = ['Fish species', 'Length', 'Weight', 'Catch and release', 'Date']\n",
    "    main_info = _get_main_info(image)\n",
    "    if zone in [s.lower() for s in info_all]:\n",
    "        print('Zone is in main info section. Use other function.')\n",
    "    else:\n",
    "        info_shift = len(main_info) * 50\n",
    "        zone_switch = {\n",
    "            'water temp' : [570+info_shift, 630+info_shift, 965, 1020]\n",
    "            , 'air temp' : [570+info_shift, 630+info_shift, 799, 850]\n",
    "            , 'location' : [100+info_shift, 180+info_shift, 710, 1200]\n",
    "            , 'precip' : [630+info_shift, 660+info_shift, 710, 890]\n",
    "            , 'wind' : [580+info_shift, 640+info_shift, 1130, 1200]\n",
    "            , 'time' : [750+info_shift, 780+info_shift, 710, 850]\n",
    "            , 'moon' :[750+info_shift, 780+info_shift, 850, 1060]\n",
    "            , 'pressure' : [750+info_shift, 780+info_shift, 1060, 1200]\n",
    "        }\n",
    "\n",
    "        dims = zone_switch[zone]\n",
    "        return image[dims[0] : dims[1], dims[2]: dims[3]]"
   ]
  },
  {
   "cell_type": "code",
   "execution_count": 273,
   "id": "f19358b4",
   "metadata": {},
   "outputs": [],
   "source": [
    "img = cv2.imread('assets/screens/sc2.png')\n",
    "img_g = get_grayscale(img)\n",
    "img_c = cv2.convertScaleAbs(img_g, alpha=1.0, beta = 1)\n",
    "\n",
    "img_ = _crop_info(img_c, 'time')\n",
    "show_img(img_)\n",
    "\n",
    "# cropped_image = img_c[950:980, 1060:1200]\n",
    "# cropped_image = img_c[780:840, 1130:1200]\n",
    "\n",
    "# text = pytesseract.image_to_string(cropped_image)\n",
    "# print(text)\n",
    "# show_img(cropped_image)"
   ]
  },
  {
   "cell_type": "code",
   "execution_count": 281,
   "id": "cb9688cf",
   "metadata": {
    "scrolled": true
   },
   "outputs": [
    {
     "name": "stdout",
     "output_type": "stream",
     "text": [
      "{'water temp': '34°\\n', 'air temp': '', 'location': 'Four Mile Run\\n', 'precip': 'Light rain\\n', 'wind': '7kn\\n', 'time': '16:22.\\n', 'moon': 'Last Quarter\\n', 'pressure': '1020.00 hPa\\n'}\n",
      "{'water temp': '', 'air temp': 'To\\n', 'location': 'Date 1/25/22\\n', 'precip': 'RAPALA\\n\\n[ ss VX\\n', 'wind': '', 'time': 'a,\\n', 'moon': '', 'pressure': ''}\n",
      "{'water temp': '', 'air temp': '30°\\n', 'location': 'Four Mile Run\\n', 'precip': 'Sunny\\n', 'wind': '9kn\\nNNW\\n', 'time': '', 'moon': '', 'pressure': ''}\n",
      "{'water temp': 'peer ane\\n', 'air temp': '', 'location': 'Main info\\n', 'precip': '', 'wind': '', 'time': '', 'moon': '', 'pressure': ''}\n",
      "{'water temp': '37°\\n', 'air temp': '32°\\n', 'location': '', 'precip': 'Partly cloudy\\n', 'wind': '4kn\\n', 'time': '17:36\\n', 'moon': 'Last Quarter\\n', 'pressure': '1009.00 hPa\\n'}\n",
      "{'water temp': 'peratur\\n', 'air temp': '', 'location': 'Four Mile Run\\n', 'precip': '', 'wind': '', 'time': '', 'moon': '', 'pressure': ''}\n",
      "{'water temp': '39°\\n', 'air temp': '27°\\n', 'location': 'Four Mile Run\\n', 'precip': 'Sunny\\n', 'wind': '9kn\\n', 'time': '', 'moon': '', 'pressure': ''}\n",
      "{'water temp': '39°\\n', 'air temp': '27°\\n', 'location': '', 'precip': 'Partly cloudy\\n', 'wind': '9kn\\n', 'time': '16:23\\n', 'moon': 'Waning Gibbous\\n', 'pressure': '1028.00 hPa\\n'}\n",
      "{'water temp': 'peratur\\n', 'air temp': 'loudy\\n', 'location': 'Four Mile Run\\n', 'precip': '', 'wind': '———r—e\\n', 'time': '', 'moon': '', 'pressure': ''}\n",
      "{'water temp': '39°\\n', 'air temp': '39°\\n', 'location': '', 'precip': 'Light rain\\n', 'wind': '4kn\\n', 'time': 'SEEK\\n', 'moon': 'Waning Gibbous\\n', 'pressure': '1016.00 hPa\\n'}\n",
      "{'water temp': 'peratur\\n', 'air temp': 'rain\\n', 'location': 'Four Mile Run\\n', 'precip': '', 'wind': 'eC\\n', 'time': '', 'moon': '', 'pressure': ''}\n",
      "{'water temp': '39°\\n', 'air temp': '45°\\n', 'location': 'ads\\nBead ri\\n', 'precip': 'Overcast\\n', 'wind': '8kn\\nssw\\n', 'time': '15:56\\n', 'moon': 'Full Moon\\n', 'pressure': '1017.00 hPa\\n'}\n",
      "{'water temp': 'peracun\\n', 'air temp': 'vast\\n', 'location': 'Four Mile Run\\n', 'precip': '', 'wind': '', 'time': '', 'moon': '', 'pressure': ''}\n"
     ]
    }
   ],
   "source": [
    "\n",
    "for i in range(2, 16):\n",
    "    if i != 9:\n",
    "        path = f'assets/screens/sc{i}.png'\n",
    "        img = cv2.imread(path)\n",
    "        other_info = dict()\n",
    "        zones = ['water temp', 'air temp', 'location', 'precip', 'wind' , 'time', 'moon', 'pressure']\n",
    "        for z in zones:\n",
    "            other_info[z] = pytesseract.image_to_string(_crop_info(img, z))\n",
    "        print()\n",
    "#         print(_get_main_info(img))\n",
    "        \n",
    "# img_ = _crop_info(img, 'time')\n",
    "#         cropped_image = img[0:1000, 710:1200]\n",
    "#         text = pytesseract.image_to_string(cropped_image)\n",
    "#         for fish in fish_list:\n",
    "#             if fish in text:\n",
    "#                 print(fish)\n"
   ]
  }
 ],
 "metadata": {
  "kernelspec": {
   "display_name": "Python 3 (ipykernel)",
   "language": "python",
   "name": "python3"
  },
  "language_info": {
   "codemirror_mode": {
    "name": "ipython",
    "version": 3
   },
   "file_extension": ".py",
   "mimetype": "text/x-python",
   "name": "python",
   "nbconvert_exporter": "python",
   "pygments_lexer": "ipython3",
   "version": "3.10.0"
  }
 },
 "nbformat": 4,
 "nbformat_minor": 5
}
