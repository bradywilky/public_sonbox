{
 "cells": [
  {
   "cell_type": "code",
   "execution_count": 4,
   "id": "16035ea5",
   "metadata": {},
   "outputs": [],
   "source": [
    "import random as rand"
   ]
  },
  {
   "cell_type": "code",
   "execution_count": 5,
   "id": "3e025458",
   "metadata": {},
   "outputs": [],
   "source": [
    "def run_simulation(switch, verbose):\n",
    "    doors = [1, 2, 3]\n",
    "    \n",
    "    script = ''\n",
    "    \n",
    "    script += f'Pick a door from this list: {doors}'\n",
    "    prize_door = rand.randint(1, 3)\n",
    "    empty_doors = [d for d in doors if d != prize_door]\n",
    "    guess_door = rand.randint(1, 3)\n",
    "    script += f'\\nYou picked door {guess_door}'\n",
    "\n",
    "    notin_door_array = [d for d in empty_doors if d != guess_door]\n",
    "    if len(notin_door_array) > 1:\n",
    "        rand_idx = rand.randint(0, 1)\n",
    "        notin_door = notin_door_array[rand_idx]\n",
    "    else:\n",
    "        notin_door = notin_door_array[0]\n",
    "    script += f'''\\nBefore the prize door is revealed, I\\'ll tell you that door {notin_door}\n",
    "    is not the correct choice. Do you want to switch?\n",
    "        '''\n",
    "    if switch:\n",
    "        switch_door = [d for d in doors if d not in [guess_door, notin_door]][0]\n",
    "        script += f'Yes I am switching from {guess_door} to {switch_door}.\\n'\n",
    "        guess_door = switch_door\n",
    "    else:\n",
    "        script += 'No I am not switching.\\n'\n",
    "    \n",
    "    script += f'The prize is behind door {prize_door}.'\n",
    "    if guess_door == prize_door:\n",
    "        script += 'You win the prize. Good shit boy\\n'\n",
    "        if verbose:\n",
    "            print(script)\n",
    "        return True\n",
    "    else:\n",
    "        script += 'You lost dumbass\\n'\n",
    "        if verbose:\n",
    "            print(script)\n",
    "        return False\n",
    "    \n",
    "#     print('doors', doors, '\\nprize_door', prize_door, '\\nguess',  guess_door, '\\nempty doors', empty_doors, '\\nnotin_door_array', notin_door_array, '\\nnotin_door'\n",
    "#           , notin_door, '\\nswitch_door:', switch_door)"
   ]
  },
  {
   "cell_type": "code",
   "execution_count": 6,
   "id": "9fdea34e",
   "metadata": {},
   "outputs": [],
   "source": [
    "# switch: boolean\n",
    "#           True for deciding to switch\n",
    "#           False for not switching\n",
    "def run_trials(ntrials, switch, verbose = False):\n",
    "    ncorrect = 0\n",
    "    nwrong = 0\n",
    "    for n in range(ntrials):\n",
    "        outcome = run_simulation(switch = switch, verbose = verbose)\n",
    "        if outcome:\n",
    "            ncorrect += 1\n",
    "        else:\n",
    "            nwrong += 1\n",
    "    percentage = float(ncorrect) / float(ntrials) \n",
    "    print(f'Number of times prize was won: {ncorrect}\\nNumber of times incorrect: {nwrong}\\nPercentage: {percentage}')\n",
    "    \n",
    "\n",
    "def run_comparison(ntrials):\n",
    "    print(f'{ntrials} Trials for switching:')\n",
    "    run_trials(ntrials, True)\n",
    "    print(f'\\n{ntrials} Trials for not switching:')\n",
    "    run_trials(ntrials, False)    "
   ]
  },
  {
   "cell_type": "code",
   "execution_count": 7,
   "id": "d18b16a8",
   "metadata": {},
   "outputs": [
    {
     "name": "stdout",
     "output_type": "stream",
     "text": [
      "1000 Trials for switching:\n",
      "Number of times prize was won: 664\n",
      "Number of times incorrect: 336\n",
      "Percentage: 0.664\n",
      "\n",
      "1000 Trials for not switching:\n",
      "Number of times prize was won: 317\n",
      "Number of times incorrect: 683\n",
      "Percentage: 0.317\n"
     ]
    }
   ],
   "source": [
    "run_comparison(1000)"
   ]
  }
 ],
 "metadata": {
  "kernelspec": {
   "display_name": "Python 3 (ipykernel)",
   "language": "python",
   "name": "python3"
  },
  "language_info": {
   "codemirror_mode": {
    "name": "ipython",
    "version": 3
   },
   "file_extension": ".py",
   "mimetype": "text/x-python",
   "name": "python",
   "nbconvert_exporter": "python",
   "pygments_lexer": "ipython3",
   "version": "3.10.0"
  }
 },
 "nbformat": 4,
 "nbformat_minor": 5
}
